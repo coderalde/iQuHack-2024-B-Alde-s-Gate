{
 "cells": [
  {
   "cell_type": "code",
   "execution_count": 1,
   "id": "fe2fad02-f9ad-415c-a534-8d7c121976e4",
   "metadata": {},
   "outputs": [],
   "source": [
    "#this notebook uses a QNN to compare healthy cells to cancerous cells and identify them in real time, this can be paired\n",
    "# With different treatment methods, however, it only works with melanoma right now."
   ]
  },
  {
   "cell_type": "code",
   "execution_count": 2,
   "id": "50f8766d-d07f-4394-b1a6-ab8e1c1473a1",
   "metadata": {},
   "outputs": [
    {
     "name": "stdout",
     "output_type": "stream",
     "text": [
      "Requirement already satisfied: rdkit in /opt/conda/lib/python3.10/site-packages (2023.9.4)\n",
      "Requirement already satisfied: Pillow in /opt/conda/lib/python3.10/site-packages (from rdkit) (9.2.0)\n",
      "Requirement already satisfied: numpy in /opt/conda/lib/python3.10/site-packages (from rdkit) (1.23.5)\n",
      "Requirement already satisfied: metapub in /opt/conda/lib/python3.10/site-packages (0.5.5)\n",
      "Requirement already satisfied: docopt in /opt/conda/lib/python3.10/site-packages (from metapub) (0.6.2)\n",
      "Requirement already satisfied: pytest in /opt/conda/lib/python3.10/site-packages (from metapub) (8.0.0)\n",
      "Requirement already satisfied: lxml in /opt/conda/lib/python3.10/site-packages (from metapub) (5.1.0)\n",
      "Requirement already satisfied: habanero in /opt/conda/lib/python3.10/site-packages (from metapub) (1.2.6)\n",
      "Requirement already satisfied: cssselect in /opt/conda/lib/python3.10/site-packages (from metapub) (1.2.0)\n",
      "Requirement already satisfied: unidecode in /opt/conda/lib/python3.10/site-packages (from metapub) (1.3.8)\n",
      "Requirement already satisfied: tox in /opt/conda/lib/python3.10/site-packages (from metapub) (4.1.1)\n",
      "Requirement already satisfied: python-Levenshtein in /opt/conda/lib/python3.10/site-packages (from metapub) (0.24.0)\n",
      "Requirement already satisfied: setuptools in /opt/conda/lib/python3.10/site-packages (from metapub) (65.5.1)\n",
      "Requirement already satisfied: coloredlogs in /opt/conda/lib/python3.10/site-packages (from metapub) (15.0.1)\n",
      "Requirement already satisfied: requests in /opt/conda/lib/python3.10/site-packages (from metapub) (2.28.1)\n",
      "Requirement already satisfied: tabulate in /opt/conda/lib/python3.10/site-packages (from metapub) (0.9.0)\n",
      "Requirement already satisfied: six in /opt/conda/lib/python3.10/site-packages (from metapub) (1.16.0)\n",
      "Requirement already satisfied: eutils in /opt/conda/lib/python3.10/site-packages (from metapub) (0.6.0)\n",
      "Requirement already satisfied: humanfriendly>=9.1 in /opt/conda/lib/python3.10/site-packages (from coloredlogs->metapub) (10.0)\n",
      "Requirement already satisfied: pytz in /opt/conda/lib/python3.10/site-packages (from eutils->metapub) (2022.6)\n",
      "Requirement already satisfied: tqdm in /opt/conda/lib/python3.10/site-packages (from habanero->metapub) (4.66.1)\n",
      "Requirement already satisfied: idna<4,>=2.5 in /opt/conda/lib/python3.10/site-packages (from requests->metapub) (3.4)\n",
      "Requirement already satisfied: urllib3<1.27,>=1.21.1 in /opt/conda/lib/python3.10/site-packages (from requests->metapub) (1.26.13)\n",
      "Requirement already satisfied: charset-normalizer<3,>=2 in /opt/conda/lib/python3.10/site-packages (from requests->metapub) (2.1.1)\n",
      "Requirement already satisfied: certifi>=2017.4.17 in /opt/conda/lib/python3.10/site-packages (from requests->metapub) (2023.11.17)\n",
      "Requirement already satisfied: packaging in /opt/conda/lib/python3.10/site-packages (from pytest->metapub) (22.0)\n",
      "Requirement already satisfied: exceptiongroup>=1.0.0rc8 in /opt/conda/lib/python3.10/site-packages (from pytest->metapub) (1.2.0)\n",
      "Requirement already satisfied: tomli>=1.0.0 in /opt/conda/lib/python3.10/site-packages (from pytest->metapub) (2.0.1)\n",
      "Requirement already satisfied: pluggy<2.0,>=1.3.0 in /opt/conda/lib/python3.10/site-packages (from pytest->metapub) (1.4.0)\n",
      "Requirement already satisfied: iniconfig in /opt/conda/lib/python3.10/site-packages (from pytest->metapub) (2.0.0)\n",
      "Requirement already satisfied: Levenshtein==0.24.0 in /opt/conda/lib/python3.10/site-packages (from python-Levenshtein->metapub) (0.24.0)\n",
      "Requirement already satisfied: rapidfuzz<4.0.0,>=3.1.0 in /opt/conda/lib/python3.10/site-packages (from Levenshtein==0.24.0->python-Levenshtein->metapub) (3.6.1)\n",
      "Requirement already satisfied: colorama>=0.4.6 in /opt/conda/lib/python3.10/site-packages (from tox->metapub) (0.4.6)\n",
      "Requirement already satisfied: pyproject-api>=1.2.1 in /opt/conda/lib/python3.10/site-packages (from tox->metapub) (1.5.0)\n",
      "Requirement already satisfied: chardet>=5.1 in /opt/conda/lib/python3.10/site-packages (from tox->metapub) (5.2.0)\n",
      "Requirement already satisfied: virtualenv>=20.17.1 in /opt/conda/lib/python3.10/site-packages (from tox->metapub) (20.21.1)\n",
      "Requirement already satisfied: platformdirs>=2.6 in /opt/conda/lib/python3.10/site-packages (from tox->metapub) (2.6.0)\n",
      "Requirement already satisfied: cachetools>=5.2 in /opt/conda/lib/python3.10/site-packages (from tox->metapub) (5.3.1)\n",
      "Requirement already satisfied: filelock>=3.8.2 in /opt/conda/lib/python3.10/site-packages (from tox->metapub) (3.13.1)\n",
      "Requirement already satisfied: distlib<1,>=0.3.6 in /opt/conda/lib/python3.10/site-packages (from virtualenv>=20.17.1->tox->metapub) (0.3.7)\n"
     ]
    }
   ],
   "source": [
    "!pip install rdkit\n",
    "!pip install metapub\n",
    "#imports \n",
    "import rdkit \n",
    "import pandas as pd \n",
    "from rdkit import Chem\n",
    "from rdkit.Chem import Draw"
   ]
  },
  {
   "cell_type": "code",
   "execution_count": 3,
   "id": "f9b62820-d139-45b5-87ff-404672ebbdc1",
   "metadata": {
    "tags": []
   },
   "outputs": [],
   "source": [
    "#initialize the keyword to be searched and number of articles to be retrieved\n",
    "\n",
    "keyword=\"melanoma\"\n",
    "num_of_articles=3"
   ]
  },
  {
   "cell_type": "code",
   "execution_count": 4,
   "id": "66534442-6b59-4c78-aca8-502927ac0b7b",
   "metadata": {
    "tags": []
   },
   "outputs": [
    {
     "name": "stderr",
     "output_type": "stream",
     "text": [
      "2024-02-04 08:52:31 jupyter-63557461844117c14f4c57db metapub.config[5419] WARNING NCBI_API_KEY was not set.\n"
     ]
    }
   ],
   "source": [
    "from metapub import PubMedFetcher\n",
    "fetch = PubMedFetcher()\n",
    "\n",
    "# get the  PMID for first 3 articles with keyword sepsis\n",
    "pmids = fetch.pmids_for_query(keyword, retmax=num_of_articles)\n",
    "\n",
    "# get  articles\n",
    "articles = {}\n",
    "for pmid in pmids:\n",
    "    articles[pmid] = fetch.article_by_pmid(pmid)"
   ]
  },
  {
   "cell_type": "code",
   "execution_count": 5,
   "id": "988cb430-6467-4fcd-bdbf-2cdb8758f191",
   "metadata": {
    "tags": []
   },
   "outputs": [
    {
     "data": {
      "text/html": [
       "<div>\n",
       "<style scoped>\n",
       "    .dataframe tbody tr th:only-of-type {\n",
       "        vertical-align: middle;\n",
       "    }\n",
       "\n",
       "    .dataframe tbody tr th {\n",
       "        vertical-align: top;\n",
       "    }\n",
       "\n",
       "    .dataframe thead th {\n",
       "        text-align: right;\n",
       "    }\n",
       "</style>\n",
       "<table border=\"1\" class=\"dataframe\">\n",
       "  <thead>\n",
       "    <tr style=\"text-align: right;\">\n",
       "      <th></th>\n",
       "      <th>pmid</th>\n",
       "      <th>Title</th>\n",
       "    </tr>\n",
       "  </thead>\n",
       "  <tbody>\n",
       "    <tr>\n",
       "      <th>0</th>\n",
       "      <td>38310157</td>\n",
       "      <td>Clinical outcomes of melanoma brain metastases...</td>\n",
       "    </tr>\n",
       "    <tr>\n",
       "      <th>1</th>\n",
       "      <td>38310012</td>\n",
       "      <td>Dermatology in black skin.</td>\n",
       "    </tr>\n",
       "    <tr>\n",
       "      <th>2</th>\n",
       "      <td>38309757</td>\n",
       "      <td>Perioperative treatment with tranexamic acid i...</td>\n",
       "    </tr>\n",
       "  </tbody>\n",
       "</table>\n",
       "</div>"
      ],
      "text/plain": [
       "       pmid                                              Title\n",
       "0  38310157  Clinical outcomes of melanoma brain metastases...\n",
       "1  38310012                         Dermatology in black skin.\n",
       "2  38309757  Perioperative treatment with tranexamic acid i..."
      ]
     },
     "execution_count": 5,
     "metadata": {},
     "output_type": "execute_result"
    }
   ],
   "source": [
    "# get title for each article:\n",
    "titles = {}\n",
    "for pmid in pmids:\n",
    "    titles[pmid] = fetch.article_by_pmid(pmid).title\n",
    "Title = pd.DataFrame(list(titles.items()),columns = ['pmid','Title'])\n",
    "Title"
   ]
  },
  {
   "cell_type": "code",
   "execution_count": 6,
   "id": "5630d3a7-12db-48e2-bbc2-95657135503e",
   "metadata": {
    "tags": []
   },
   "outputs": [
    {
     "data": {
      "text/html": [
       "<div>\n",
       "<style scoped>\n",
       "    .dataframe tbody tr th:only-of-type {\n",
       "        vertical-align: middle;\n",
       "    }\n",
       "\n",
       "    .dataframe tbody tr th {\n",
       "        vertical-align: top;\n",
       "    }\n",
       "\n",
       "    .dataframe thead th {\n",
       "        text-align: right;\n",
       "    }\n",
       "</style>\n",
       "<table border=\"1\" class=\"dataframe\">\n",
       "  <thead>\n",
       "    <tr style=\"text-align: right;\">\n",
       "      <th></th>\n",
       "      <th>pmid</th>\n",
       "      <th>Abstract</th>\n",
       "    </tr>\n",
       "  </thead>\n",
       "  <tbody>\n",
       "    <tr>\n",
       "      <th>0</th>\n",
       "      <td>38310157</td>\n",
       "      <td>PURPOSE: Upfront dual checkpoint blockade with...</td>\n",
       "    </tr>\n",
       "    <tr>\n",
       "      <th>1</th>\n",
       "      <td>38310012</td>\n",
       "      <td>The vast majority of publications in dermatolo...</td>\n",
       "    </tr>\n",
       "    <tr>\n",
       "      <th>2</th>\n",
       "      <td>38309757</td>\n",
       "      <td>INTRODUCTION: Inflammation is a hallmark of ca...</td>\n",
       "    </tr>\n",
       "  </tbody>\n",
       "</table>\n",
       "</div>"
      ],
      "text/plain": [
       "       pmid                                           Abstract\n",
       "0  38310157  PURPOSE: Upfront dual checkpoint blockade with...\n",
       "1  38310012  The vast majority of publications in dermatolo...\n",
       "2  38309757  INTRODUCTION: Inflammation is a hallmark of ca..."
      ]
     },
     "execution_count": 6,
     "metadata": {},
     "output_type": "execute_result"
    }
   ],
   "source": [
    "# get abstract for each article:\n",
    "abstracts = {}\n",
    "for pmid in pmids:\n",
    "    abstracts[pmid] = fetch.article_by_pmid(pmid).abstract\n",
    "Abstract = pd.DataFrame(list(abstracts.items()),columns = ['pmid','Abstract'])\n",
    "Abstract"
   ]
  },
  {
   "cell_type": "code",
   "execution_count": 7,
   "id": "89bccfa0-1850-418e-83f2-9317617eb8d3",
   "metadata": {
    "tags": []
   },
   "outputs": [
    {
     "data": {
      "text/html": [
       "<div>\n",
       "<style scoped>\n",
       "    .dataframe tbody tr th:only-of-type {\n",
       "        vertical-align: middle;\n",
       "    }\n",
       "\n",
       "    .dataframe tbody tr th {\n",
       "        vertical-align: top;\n",
       "    }\n",
       "\n",
       "    .dataframe thead th {\n",
       "        text-align: right;\n",
       "    }\n",
       "</style>\n",
       "<table border=\"1\" class=\"dataframe\">\n",
       "  <thead>\n",
       "    <tr style=\"text-align: right;\">\n",
       "      <th></th>\n",
       "      <th>pmid</th>\n",
       "      <th>Author</th>\n",
       "    </tr>\n",
       "  </thead>\n",
       "  <tbody>\n",
       "    <tr>\n",
       "      <th>0</th>\n",
       "      <td>38310157</td>\n",
       "      <td>[Tang JD, Mills MN, Nakashima J, Dohm AE, Khus...</td>\n",
       "    </tr>\n",
       "    <tr>\n",
       "      <th>1</th>\n",
       "      <td>38310012</td>\n",
       "      <td>[Alchorne MMA, Conceição KDC, Barraza LL, Mila...</td>\n",
       "    </tr>\n",
       "    <tr>\n",
       "      <th>2</th>\n",
       "      <td>38309757</td>\n",
       "      <td>[Kristjansen KA, Engel Krag A, Schmidt H, Hölm...</td>\n",
       "    </tr>\n",
       "  </tbody>\n",
       "</table>\n",
       "</div>"
      ],
      "text/plain": [
       "       pmid                                             Author\n",
       "0  38310157  [Tang JD, Mills MN, Nakashima J, Dohm AE, Khus...\n",
       "1  38310012  [Alchorne MMA, Conceição KDC, Barraza LL, Mila...\n",
       "2  38309757  [Kristjansen KA, Engel Krag A, Schmidt H, Hölm..."
      ]
     },
     "execution_count": 7,
     "metadata": {},
     "output_type": "execute_result"
    }
   ],
   "source": [
    "    # get author for each article:\n",
    "    authors = {}\n",
    "    for pmid in pmids:\n",
    "        authors[pmid] = fetch.article_by_pmid(pmid).authors\n",
    "    Author = pd.DataFrame(list(authors.items()),columns = ['pmid','Author'])\n",
    "    Author"
   ]
  },
  {
   "cell_type": "code",
   "execution_count": 8,
   "id": "4d582fb3-b0f8-4872-9090-6ce2edfab9b7",
   "metadata": {
    "tags": []
   },
   "outputs": [
    {
     "data": {
      "text/html": [
       "<div>\n",
       "<style scoped>\n",
       "    .dataframe tbody tr th:only-of-type {\n",
       "        vertical-align: middle;\n",
       "    }\n",
       "\n",
       "    .dataframe tbody tr th {\n",
       "        vertical-align: top;\n",
       "    }\n",
       "\n",
       "    .dataframe thead th {\n",
       "        text-align: right;\n",
       "    }\n",
       "</style>\n",
       "<table border=\"1\" class=\"dataframe\">\n",
       "  <thead>\n",
       "    <tr style=\"text-align: right;\">\n",
       "      <th></th>\n",
       "      <th>pmid</th>\n",
       "      <th>Year</th>\n",
       "    </tr>\n",
       "  </thead>\n",
       "  <tbody>\n",
       "    <tr>\n",
       "      <th>0</th>\n",
       "      <td>38310157</td>\n",
       "      <td>2024</td>\n",
       "    </tr>\n",
       "    <tr>\n",
       "      <th>1</th>\n",
       "      <td>38310012</td>\n",
       "      <td>2024</td>\n",
       "    </tr>\n",
       "    <tr>\n",
       "      <th>2</th>\n",
       "      <td>38309757</td>\n",
       "      <td>2024</td>\n",
       "    </tr>\n",
       "  </tbody>\n",
       "</table>\n",
       "</div>"
      ],
      "text/plain": [
       "       pmid  Year\n",
       "0  38310157  2024\n",
       "1  38310012  2024\n",
       "2  38309757  2024"
      ]
     },
     "execution_count": 8,
     "metadata": {},
     "output_type": "execute_result"
    }
   ],
   "source": [
    "# get year for each article:\n",
    "years = {}\n",
    "for pmid in pmids:\n",
    "    years[pmid] = fetch.article_by_pmid(pmid).year\n",
    "Year = pd.DataFrame(list(years.items()),columns = ['pmid','Year'])\n",
    "Year"
   ]
  },
  {
   "cell_type": "code",
   "execution_count": 9,
   "id": "269babeb-3a59-437e-8073-1022718530d1",
   "metadata": {
    "tags": []
   },
   "outputs": [
    {
     "data": {
      "text/html": [
       "<div>\n",
       "<style scoped>\n",
       "    .dataframe tbody tr th:only-of-type {\n",
       "        vertical-align: middle;\n",
       "    }\n",
       "\n",
       "    .dataframe tbody tr th {\n",
       "        vertical-align: top;\n",
       "    }\n",
       "\n",
       "    .dataframe thead th {\n",
       "        text-align: right;\n",
       "    }\n",
       "</style>\n",
       "<table border=\"1\" class=\"dataframe\">\n",
       "  <thead>\n",
       "    <tr style=\"text-align: right;\">\n",
       "      <th></th>\n",
       "      <th>pmid</th>\n",
       "      <th>Volume</th>\n",
       "    </tr>\n",
       "  </thead>\n",
       "  <tbody>\n",
       "    <tr>\n",
       "      <th>0</th>\n",
       "      <td>38310157</td>\n",
       "      <td>None</td>\n",
       "    </tr>\n",
       "    <tr>\n",
       "      <th>1</th>\n",
       "      <td>38310012</td>\n",
       "      <td>None</td>\n",
       "    </tr>\n",
       "    <tr>\n",
       "      <th>2</th>\n",
       "      <td>38309757</td>\n",
       "      <td>14</td>\n",
       "    </tr>\n",
       "  </tbody>\n",
       "</table>\n",
       "</div>"
      ],
      "text/plain": [
       "       pmid Volume\n",
       "0  38310157   None\n",
       "1  38310012   None\n",
       "2  38309757     14"
      ]
     },
     "execution_count": 9,
     "metadata": {},
     "output_type": "execute_result"
    }
   ],
   "source": [
    "# get volume for each article:\n",
    "volumes = {}\n",
    "for pmid in pmids:\n",
    "    volumes[pmid] = fetch.article_by_pmid(pmid).volume\n",
    "Volume = pd.DataFrame(list(volumes.items()),columns = ['pmid','Volume'])\n",
    "Volume"
   ]
  },
  {
   "cell_type": "code",
   "execution_count": 10,
   "id": "620150c5-834e-4380-b664-c865b208f456",
   "metadata": {
    "tags": []
   },
   "outputs": [
    {
     "data": {
      "text/html": [
       "<div>\n",
       "<style scoped>\n",
       "    .dataframe tbody tr th:only-of-type {\n",
       "        vertical-align: middle;\n",
       "    }\n",
       "\n",
       "    .dataframe tbody tr th {\n",
       "        vertical-align: top;\n",
       "    }\n",
       "\n",
       "    .dataframe thead th {\n",
       "        text-align: right;\n",
       "    }\n",
       "</style>\n",
       "<table border=\"1\" class=\"dataframe\">\n",
       "  <thead>\n",
       "    <tr style=\"text-align: right;\">\n",
       "      <th></th>\n",
       "      <th>pmid</th>\n",
       "      <th>Issue</th>\n",
       "    </tr>\n",
       "  </thead>\n",
       "  <tbody>\n",
       "    <tr>\n",
       "      <th>0</th>\n",
       "      <td>38310157</td>\n",
       "      <td>None</td>\n",
       "    </tr>\n",
       "    <tr>\n",
       "      <th>1</th>\n",
       "      <td>38310012</td>\n",
       "      <td>None</td>\n",
       "    </tr>\n",
       "    <tr>\n",
       "      <th>2</th>\n",
       "      <td>38309757</td>\n",
       "      <td>2</td>\n",
       "    </tr>\n",
       "  </tbody>\n",
       "</table>\n",
       "</div>"
      ],
      "text/plain": [
       "       pmid Issue\n",
       "0  38310157  None\n",
       "1  38310012  None\n",
       "2  38309757     2"
      ]
     },
     "execution_count": 10,
     "metadata": {},
     "output_type": "execute_result"
    }
   ],
   "source": [
    "# get issue for each article:\n",
    "issues = {}\n",
    "for pmid in pmids:\n",
    "    issues[pmid] = fetch.article_by_pmid(pmid).issue\n",
    "Issue = pd.DataFrame(list(issues.items()),columns = ['pmid','Issue'])\n",
    "Issue"
   ]
  },
  {
   "cell_type": "code",
   "execution_count": 11,
   "id": "a8f02434-2062-4c6a-ab68-7dc8a6f642e6",
   "metadata": {
    "tags": []
   },
   "outputs": [
    {
     "data": {
      "text/html": [
       "<div>\n",
       "<style scoped>\n",
       "    .dataframe tbody tr th:only-of-type {\n",
       "        vertical-align: middle;\n",
       "    }\n",
       "\n",
       "    .dataframe tbody tr th {\n",
       "        vertical-align: top;\n",
       "    }\n",
       "\n",
       "    .dataframe thead th {\n",
       "        text-align: right;\n",
       "    }\n",
       "</style>\n",
       "<table border=\"1\" class=\"dataframe\">\n",
       "  <thead>\n",
       "    <tr style=\"text-align: right;\">\n",
       "      <th></th>\n",
       "      <th>pmid</th>\n",
       "      <th>Journal</th>\n",
       "    </tr>\n",
       "  </thead>\n",
       "  <tbody>\n",
       "    <tr>\n",
       "      <th>0</th>\n",
       "      <td>38310157</td>\n",
       "      <td>J Neurooncol</td>\n",
       "    </tr>\n",
       "    <tr>\n",
       "      <th>1</th>\n",
       "      <td>38310012</td>\n",
       "      <td>An Bras Dermatol</td>\n",
       "    </tr>\n",
       "    <tr>\n",
       "      <th>2</th>\n",
       "      <td>38309757</td>\n",
       "      <td>BMJ Open</td>\n",
       "    </tr>\n",
       "  </tbody>\n",
       "</table>\n",
       "</div>"
      ],
      "text/plain": [
       "       pmid           Journal\n",
       "0  38310157      J Neurooncol\n",
       "1  38310012  An Bras Dermatol\n",
       "2  38309757          BMJ Open"
      ]
     },
     "execution_count": 11,
     "metadata": {},
     "output_type": "execute_result"
    }
   ],
   "source": [
    "# get journal for each article:\n",
    "journals = {}\n",
    "for pmid in pmids:\n",
    "    journals[pmid] = fetch.article_by_pmid(pmid).journal\n",
    "Journal = pd.DataFrame(list(journals.items()),columns = ['pmid','Journal'])\n",
    "Journal"
   ]
  },
  {
   "cell_type": "code",
   "execution_count": 12,
   "id": "999fef80-aaa9-4eeb-9d64-9b0b515ffa39",
   "metadata": {
    "tags": []
   },
   "outputs": [
    {
     "data": {
      "text/html": [
       "<div>\n",
       "<style scoped>\n",
       "    .dataframe tbody tr th:only-of-type {\n",
       "        vertical-align: middle;\n",
       "    }\n",
       "\n",
       "    .dataframe tbody tr th {\n",
       "        vertical-align: top;\n",
       "    }\n",
       "\n",
       "    .dataframe thead th {\n",
       "        text-align: right;\n",
       "    }\n",
       "</style>\n",
       "<table border=\"1\" class=\"dataframe\">\n",
       "  <thead>\n",
       "    <tr style=\"text-align: right;\">\n",
       "      <th></th>\n",
       "      <th>pmid</th>\n",
       "      <th>Citation</th>\n",
       "    </tr>\n",
       "  </thead>\n",
       "  <tbody>\n",
       "    <tr>\n",
       "      <th>0</th>\n",
       "      <td>38310157</td>\n",
       "      <td>Tang JD, et al. Clinical outcomes of melanoma ...</td>\n",
       "    </tr>\n",
       "    <tr>\n",
       "      <th>1</th>\n",
       "      <td>38310012</td>\n",
       "      <td>Alchorne MMA, et al. Dermatology in black skin...</td>\n",
       "    </tr>\n",
       "    <tr>\n",
       "      <th>2</th>\n",
       "      <td>38309757</td>\n",
       "      <td>Kristjansen KA, et al. Perioperative treatment...</td>\n",
       "    </tr>\n",
       "  </tbody>\n",
       "</table>\n",
       "</div>"
      ],
      "text/plain": [
       "       pmid                                           Citation\n",
       "0  38310157  Tang JD, et al. Clinical outcomes of melanoma ...\n",
       "1  38310012  Alchorne MMA, et al. Dermatology in black skin...\n",
       "2  38309757  Kristjansen KA, et al. Perioperative treatment..."
      ]
     },
     "execution_count": 12,
     "metadata": {},
     "output_type": "execute_result"
    }
   ],
   "source": [
    "# get citation for each article:\n",
    "citations = {}\n",
    "for pmid in pmids:\n",
    "    citations[pmid] = fetch.article_by_pmid(pmid).citation\n",
    "Citation = pd.DataFrame(list(citations.items()),columns = ['pmid','Citation'])\n",
    "Citation"
   ]
  },
  {
   "cell_type": "code",
   "execution_count": 13,
   "id": "21e7b7ab-839b-4ce6-a421-431f5a446c41",
   "metadata": {
    "tags": []
   },
   "outputs": [
    {
     "data": {
      "text/html": [
       "<div>\n",
       "<style scoped>\n",
       "    .dataframe tbody tr th:only-of-type {\n",
       "        vertical-align: middle;\n",
       "    }\n",
       "\n",
       "    .dataframe tbody tr th {\n",
       "        vertical-align: top;\n",
       "    }\n",
       "\n",
       "    .dataframe thead th {\n",
       "        text-align: right;\n",
       "    }\n",
       "</style>\n",
       "<table border=\"1\" class=\"dataframe\">\n",
       "  <thead>\n",
       "    <tr style=\"text-align: right;\">\n",
       "      <th></th>\n",
       "      <th>pmid</th>\n",
       "      <th>Link</th>\n",
       "    </tr>\n",
       "  </thead>\n",
       "  <tbody>\n",
       "    <tr>\n",
       "      <th>0</th>\n",
       "      <td>38310157</td>\n",
       "      <td>https://pubmed.ncbi.nlm.nih.gov/38310157/</td>\n",
       "    </tr>\n",
       "    <tr>\n",
       "      <th>1</th>\n",
       "      <td>38310012</td>\n",
       "      <td>https://pubmed.ncbi.nlm.nih.gov/38310012/</td>\n",
       "    </tr>\n",
       "    <tr>\n",
       "      <th>2</th>\n",
       "      <td>38309757</td>\n",
       "      <td>https://pubmed.ncbi.nlm.nih.gov/38309757/</td>\n",
       "    </tr>\n",
       "  </tbody>\n",
       "</table>\n",
       "</div>"
      ],
      "text/plain": [
       "       pmid                                       Link\n",
       "0  38310157  https://pubmed.ncbi.nlm.nih.gov/38310157/\n",
       "1  38310012  https://pubmed.ncbi.nlm.nih.gov/38310012/\n",
       "2  38309757  https://pubmed.ncbi.nlm.nih.gov/38309757/"
      ]
     },
     "execution_count": 13,
     "metadata": {},
     "output_type": "execute_result"
    }
   ],
   "source": [
    "links={}\n",
    "for pmid in pmids:\n",
    "    links[pmid] = \"https://pubmed.ncbi.nlm.nih.gov/\"+pmid+\"/\"\n",
    "Link = pd.DataFrame(list(links.items()),columns = ['pmid','Link'])\n",
    "Link"
   ]
  },
  {
   "cell_type": "code",
   "execution_count": 14,
   "id": "44fff7b9-4da5-4bfc-b9b6-71a4b37fb889",
   "metadata": {
    "tags": []
   },
   "outputs": [
    {
     "data": {
      "text/html": [
       "<div>\n",
       "<style scoped>\n",
       "    .dataframe tbody tr th:only-of-type {\n",
       "        vertical-align: middle;\n",
       "    }\n",
       "\n",
       "    .dataframe tbody tr th {\n",
       "        vertical-align: top;\n",
       "    }\n",
       "\n",
       "    .dataframe thead th {\n",
       "        text-align: right;\n",
       "    }\n",
       "</style>\n",
       "<table border=\"1\" class=\"dataframe\">\n",
       "  <thead>\n",
       "    <tr style=\"text-align: right;\">\n",
       "      <th></th>\n",
       "      <th>pmid</th>\n",
       "      <th>Title</th>\n",
       "      <th>Abstract</th>\n",
       "      <th>Author</th>\n",
       "      <th>Year</th>\n",
       "      <th>Volume</th>\n",
       "      <th>Issue</th>\n",
       "      <th>Journal</th>\n",
       "      <th>Citation</th>\n",
       "      <th>Link</th>\n",
       "    </tr>\n",
       "  </thead>\n",
       "  <tbody>\n",
       "    <tr>\n",
       "      <th>0</th>\n",
       "      <td>38310157</td>\n",
       "      <td>Clinical outcomes of melanoma brain metastases...</td>\n",
       "      <td>PURPOSE: Upfront dual checkpoint blockade with...</td>\n",
       "      <td>[Tang JD, Mills MN, Nakashima J, Dohm AE, Khus...</td>\n",
       "      <td>2024</td>\n",
       "      <td>None</td>\n",
       "      <td>None</td>\n",
       "      <td>J Neurooncol</td>\n",
       "      <td>Tang JD, et al. Clinical outcomes of melanoma ...</td>\n",
       "      <td>https://pubmed.ncbi.nlm.nih.gov/38310157/</td>\n",
       "    </tr>\n",
       "    <tr>\n",
       "      <th>1</th>\n",
       "      <td>38310012</td>\n",
       "      <td>Dermatology in black skin.</td>\n",
       "      <td>The vast majority of publications in dermatolo...</td>\n",
       "      <td>[Alchorne MMA, Conceição KDC, Barraza LL, Mila...</td>\n",
       "      <td>2024</td>\n",
       "      <td>None</td>\n",
       "      <td>None</td>\n",
       "      <td>An Bras Dermatol</td>\n",
       "      <td>Alchorne MMA, et al. Dermatology in black skin...</td>\n",
       "      <td>https://pubmed.ncbi.nlm.nih.gov/38310012/</td>\n",
       "    </tr>\n",
       "    <tr>\n",
       "      <th>2</th>\n",
       "      <td>38309757</td>\n",
       "      <td>Perioperative treatment with tranexamic acid i...</td>\n",
       "      <td>INTRODUCTION: Inflammation is a hallmark of ca...</td>\n",
       "      <td>[Kristjansen KA, Engel Krag A, Schmidt H, Hölm...</td>\n",
       "      <td>2024</td>\n",
       "      <td>14</td>\n",
       "      <td>2</td>\n",
       "      <td>BMJ Open</td>\n",
       "      <td>Kristjansen KA, et al. Perioperative treatment...</td>\n",
       "      <td>https://pubmed.ncbi.nlm.nih.gov/38309757/</td>\n",
       "    </tr>\n",
       "  </tbody>\n",
       "</table>\n",
       "</div>"
      ],
      "text/plain": [
       "       pmid                                              Title  \\\n",
       "0  38310157  Clinical outcomes of melanoma brain metastases...   \n",
       "1  38310012                         Dermatology in black skin.   \n",
       "2  38309757  Perioperative treatment with tranexamic acid i...   \n",
       "\n",
       "                                            Abstract  \\\n",
       "0  PURPOSE: Upfront dual checkpoint blockade with...   \n",
       "1  The vast majority of publications in dermatolo...   \n",
       "2  INTRODUCTION: Inflammation is a hallmark of ca...   \n",
       "\n",
       "                                              Author  Year Volume Issue  \\\n",
       "0  [Tang JD, Mills MN, Nakashima J, Dohm AE, Khus...  2024   None  None   \n",
       "1  [Alchorne MMA, Conceição KDC, Barraza LL, Mila...  2024   None  None   \n",
       "2  [Kristjansen KA, Engel Krag A, Schmidt H, Hölm...  2024     14     2   \n",
       "\n",
       "            Journal                                           Citation  \\\n",
       "0      J Neurooncol  Tang JD, et al. Clinical outcomes of melanoma ...   \n",
       "1  An Bras Dermatol  Alchorne MMA, et al. Dermatology in black skin...   \n",
       "2          BMJ Open  Kristjansen KA, et al. Perioperative treatment...   \n",
       "\n",
       "                                        Link  \n",
       "0  https://pubmed.ncbi.nlm.nih.gov/38310157/  \n",
       "1  https://pubmed.ncbi.nlm.nih.gov/38310012/  \n",
       "2  https://pubmed.ncbi.nlm.nih.gov/38309757/  "
      ]
     },
     "execution_count": 14,
     "metadata": {},
     "output_type": "execute_result"
    }
   ],
   "source": [
    "data_frames = [Title,Abstract,Author,Year,Volume,Issue,Journal,Citation,Link]\n",
    "from functools import reduce\n",
    "df_merged = reduce(lambda  left,right: pd.merge(left,right,on=['pmid'],\n",
    "                                            how='outer'), data_frames)\n",
    "df_merged"
   ]
  },
  {
   "cell_type": "code",
   "execution_count": 15,
   "id": "7f37b12c-e14e-4aeb-b2b2-143408dcf4b1",
   "metadata": {
    "tags": []
   },
   "outputs": [],
   "source": [
    "df_merged.to_csv('pubmed_articles.csv')"
   ]
  },
  {
   "cell_type": "code",
   "execution_count": 16,
   "id": "466b9b59-4113-4bf7-8229-1eafe98341c9",
   "metadata": {
    "tags": []
   },
   "outputs": [],
   "source": [
    "pmids = [\"28890696\"]  # Replace this with the correct PMID\n",
    "data = []\n",
    "for pmid in pmids:\n",
    "    result = PubMedFetcher().article_by_pmid(pmid)\n",
    "    data.append([pmid, result.title, result.abstract, result.authors, result.year,\n",
    "                 result.volume, result.issue, result.journal, result.citation])\n",
    "df = pd.DataFrame(data, columns=['pmid', 'Title', 'Abstract', 'Author', 'Year', 'Volume', 'Issue', 'Journal', 'Citation'])\n",
    "df.to_csv('pubmed_articles.csv')"
   ]
  },
  {
   "cell_type": "code",
   "execution_count": 17,
   "id": "c14425ba-1fac-4b37-a2c4-ccdd8ff86f03",
   "metadata": {},
   "outputs": [],
   "source": [
    "# alde/kalysha/an/deron"
   ]
  },
  {
   "cell_type": "code",
   "execution_count": 18,
   "id": "27b76ca0-5cc3-462a-bdb6-0696cb2182f8",
   "metadata": {
    "tags": []
   },
   "outputs": [
    {
     "name": "stdout",
     "output_type": "stream",
     "text": [
      "Requirement already satisfied: torchvision in /opt/conda/lib/python3.10/site-packages (0.15.2)\n",
      "Requirement already satisfied: requests in /opt/conda/lib/python3.10/site-packages (from torchvision) (2.28.1)\n",
      "Requirement already satisfied: pillow!=8.3.*,>=5.3.0 in /opt/conda/lib/python3.10/site-packages (from torchvision) (9.2.0)\n",
      "Requirement already satisfied: torch==2.0.1 in /opt/conda/lib/python3.10/site-packages (from torchvision) (2.0.1)\n",
      "Requirement already satisfied: numpy in /opt/conda/lib/python3.10/site-packages (from torchvision) (1.23.5)\n",
      "Requirement already satisfied: filelock in /opt/conda/lib/python3.10/site-packages (from torch==2.0.1->torchvision) (3.13.1)\n",
      "Requirement already satisfied: nvidia-nvtx-cu11==11.7.91 in /opt/conda/lib/python3.10/site-packages (from torch==2.0.1->torchvision) (11.7.91)\n",
      "Requirement already satisfied: sympy in /opt/conda/lib/python3.10/site-packages (from torch==2.0.1->torchvision) (1.11.1)\n",
      "Requirement already satisfied: nvidia-cusolver-cu11==11.4.0.1 in /opt/conda/lib/python3.10/site-packages (from torch==2.0.1->torchvision) (11.4.0.1)\n",
      "Requirement already satisfied: nvidia-cudnn-cu11==8.5.0.96 in /opt/conda/lib/python3.10/site-packages (from torch==2.0.1->torchvision) (8.5.0.96)\n",
      "Requirement already satisfied: nvidia-cusparse-cu11==11.7.4.91 in /opt/conda/lib/python3.10/site-packages (from torch==2.0.1->torchvision) (11.7.4.91)\n",
      "Requirement already satisfied: jinja2 in /opt/conda/lib/python3.10/site-packages (from torch==2.0.1->torchvision) (3.1.2)\n",
      "Requirement already satisfied: networkx in /opt/conda/lib/python3.10/site-packages (from torch==2.0.1->torchvision) (3.2.1)\n",
      "Requirement already satisfied: triton==2.0.0 in /opt/conda/lib/python3.10/site-packages (from torch==2.0.1->torchvision) (2.0.0)\n",
      "Requirement already satisfied: typing-extensions in /opt/conda/lib/python3.10/site-packages (from torch==2.0.1->torchvision) (4.4.0)\n",
      "Requirement already satisfied: nvidia-cuda-nvrtc-cu11==11.7.99 in /opt/conda/lib/python3.10/site-packages (from torch==2.0.1->torchvision) (11.7.99)\n",
      "Requirement already satisfied: nvidia-cuda-cupti-cu11==11.7.101 in /opt/conda/lib/python3.10/site-packages (from torch==2.0.1->torchvision) (11.7.101)\n",
      "Requirement already satisfied: nvidia-cuda-runtime-cu11==11.7.99 in /opt/conda/lib/python3.10/site-packages (from torch==2.0.1->torchvision) (11.7.99)\n",
      "Requirement already satisfied: nvidia-cublas-cu11==11.10.3.66 in /opt/conda/lib/python3.10/site-packages (from torch==2.0.1->torchvision) (11.10.3.66)\n",
      "Requirement already satisfied: nvidia-curand-cu11==10.2.10.91 in /opt/conda/lib/python3.10/site-packages (from torch==2.0.1->torchvision) (10.2.10.91)\n",
      "Requirement already satisfied: nvidia-nccl-cu11==2.14.3 in /opt/conda/lib/python3.10/site-packages (from torch==2.0.1->torchvision) (2.14.3)\n",
      "Requirement already satisfied: nvidia-cufft-cu11==10.9.0.58 in /opt/conda/lib/python3.10/site-packages (from torch==2.0.1->torchvision) (10.9.0.58)\n",
      "Requirement already satisfied: setuptools in /opt/conda/lib/python3.10/site-packages (from nvidia-cublas-cu11==11.10.3.66->torch==2.0.1->torchvision) (65.5.1)\n",
      "Requirement already satisfied: wheel in /opt/conda/lib/python3.10/site-packages (from nvidia-cublas-cu11==11.10.3.66->torch==2.0.1->torchvision) (0.38.4)\n",
      "Requirement already satisfied: cmake in /opt/conda/lib/python3.10/site-packages (from triton==2.0.0->torch==2.0.1->torchvision) (3.28.1)\n",
      "Requirement already satisfied: lit in /opt/conda/lib/python3.10/site-packages (from triton==2.0.0->torch==2.0.1->torchvision) (17.0.6)\n",
      "Requirement already satisfied: idna<4,>=2.5 in /opt/conda/lib/python3.10/site-packages (from requests->torchvision) (3.4)\n",
      "Requirement already satisfied: charset-normalizer<3,>=2 in /opt/conda/lib/python3.10/site-packages (from requests->torchvision) (2.1.1)\n",
      "Requirement already satisfied: urllib3<1.27,>=1.21.1 in /opt/conda/lib/python3.10/site-packages (from requests->torchvision) (1.26.13)\n",
      "Requirement already satisfied: certifi>=2017.4.17 in /opt/conda/lib/python3.10/site-packages (from requests->torchvision) (2023.11.17)\n",
      "Requirement already satisfied: MarkupSafe>=2.0 in /opt/conda/lib/python3.10/site-packages (from jinja2->torch==2.0.1->torchvision) (2.1.1)\n",
      "Requirement already satisfied: mpmath>=0.19 in /opt/conda/lib/python3.10/site-packages (from sympy->torch==2.0.1->torchvision) (1.2.1)\n"
     ]
    }
   ],
   "source": [
    "!pip install torchvision"
   ]
  },
  {
   "cell_type": "code",
   "execution_count": 19,
   "id": "21088e47-d171-4794-b52a-c5db7ec7db76",
   "metadata": {
    "tags": []
   },
   "outputs": [
    {
     "name": "stdout",
     "output_type": "stream",
     "text": [
      "Requirement already satisfied: qiskit in /opt/conda/lib/python3.10/site-packages (0.46.0)\n",
      "Requirement already satisfied: qiskit-terra==0.46.0 in /opt/conda/lib/python3.10/site-packages (from qiskit) (0.46.0)\n",
      "Requirement already satisfied: dill>=0.3 in /opt/conda/lib/python3.10/site-packages (from qiskit-terra==0.46.0->qiskit) (0.3.7)\n",
      "Requirement already satisfied: scipy>=1.5 in /opt/conda/lib/python3.10/site-packages (from qiskit-terra==0.46.0->qiskit) (1.9.3)\n",
      "Requirement already satisfied: numpy<2,>=1.17 in /opt/conda/lib/python3.10/site-packages (from qiskit-terra==0.46.0->qiskit) (1.23.5)\n",
      "Requirement already satisfied: psutil>=5 in /opt/conda/lib/python3.10/site-packages (from qiskit-terra==0.46.0->qiskit) (5.9.4)\n",
      "Requirement already satisfied: stevedore>=3.0.0 in /opt/conda/lib/python3.10/site-packages (from qiskit-terra==0.46.0->qiskit) (4.1.1)\n",
      "Requirement already satisfied: ply>=3.10 in /opt/conda/lib/python3.10/site-packages (from qiskit-terra==0.46.0->qiskit) (3.11)\n",
      "Requirement already satisfied: rustworkx>=0.13.0 in /opt/conda/lib/python3.10/site-packages (from qiskit-terra==0.46.0->qiskit) (0.13.0)\n",
      "Requirement already satisfied: typing-extensions in /opt/conda/lib/python3.10/site-packages (from qiskit-terra==0.46.0->qiskit) (4.4.0)\n",
      "Requirement already satisfied: python-dateutil>=2.8.0 in /opt/conda/lib/python3.10/site-packages (from qiskit-terra==0.46.0->qiskit) (2.8.2)\n",
      "Requirement already satisfied: sympy>=1.3 in /opt/conda/lib/python3.10/site-packages (from qiskit-terra==0.46.0->qiskit) (1.11.1)\n",
      "Requirement already satisfied: symengine>=0.11 in /opt/conda/lib/python3.10/site-packages (from qiskit-terra==0.46.0->qiskit) (0.11.0)\n",
      "Requirement already satisfied: six>=1.5 in /opt/conda/lib/python3.10/site-packages (from python-dateutil>=2.8.0->qiskit-terra==0.46.0->qiskit) (1.16.0)\n",
      "Requirement already satisfied: pbr!=2.1.0,>=2.0.0 in /opt/conda/lib/python3.10/site-packages (from stevedore>=3.0.0->qiskit-terra==0.46.0->qiskit) (5.11.1)\n",
      "Requirement already satisfied: mpmath>=0.19 in /opt/conda/lib/python3.10/site-packages (from sympy>=1.3->qiskit-terra==0.46.0->qiskit) (1.2.1)\n"
     ]
    },
    {
     "name": "stderr",
     "output_type": "stream",
     "text": [
      "__init__.discover_credentials:INFO:2024-02-04 08:52:59,511: Using credentials from qiskitrc\n"
     ]
    }
   ],
   "source": [
    "# 101 Neuronal nets\n",
    "import torch\n",
    "from torch import nn\n",
    "from torch.autograd import Function\n",
    "from torch.utils.data import DataLoader\n",
    "from torchvision import datasets, transforms\n",
    "import torch.optim as optim\n",
    "import torch.nn as nn\n",
    "import torch.nn.functional as F\n",
    "import numpy as np\n",
    "from matplotlib import pyplot as plt\n",
    "from tqdm import tqdm\n",
    "import warnings\n",
    "warnings.filterwarnings('ignore')\n",
    "\n",
    "# Importing standard Qiskit libraries\n",
    "!pip install --upgrade qiskit\n",
    "import qiskit\n",
    "from qiskit import QuantumCircuit, transpile, Aer, IBMQ, execute, assemble\n",
    "from qiskit.tools.jupyter import *\n",
    "from qiskit.visualization import *\n",
    "from ibm_quantum_widgets import *\n",
    "from qiskit.providers.aer import QasmSimulator\n",
    "from qiskit.tools.monitor import job_monitor\n",
    "from qiskit import IBMQ\n",
    "# Loading your IBM Quantum account(s)\n",
    "provider = IBMQ.load_account()"
   ]
  },
  {
   "cell_type": "code",
   "execution_count": 20,
   "id": "812121a1-d410-4a79-acc2-53bca8573929",
   "metadata": {
    "tags": []
   },
   "outputs": [],
   "source": [
    "class QuantumCircuit:\n",
    "    \"\"\" \n",
    "    This class provides a simple interface for interaction \n",
    "    with the quantum circuit \n",
    "    \"\"\"\n",
    "    \n",
    "    def __init__(self, n_qubits, backend, shots):\n",
    "        # --- Circuit definition ---\n",
    "        self._circuit = qiskit.QuantumCircuit(n_qubits)\n",
    "        \n",
    "        all_qubits = [i for i in range(n_qubits)]\n",
    "        self.theta = qiskit.circuit.Parameter('theta')\n",
    "        \n",
    "        self._circuit.h(all_qubits)\n",
    "        self._circuit.barrier()\n",
    "        self._circuit.ry(self.theta, all_qubits)\n",
    "        \n",
    "        self._circuit.measure_all()\n",
    "        # ---------------------------\n",
    "\n",
    "        self.backend = backend\n",
    "        self.shots = shots\n",
    "    \n",
    "    def run(self, thetas):\n",
    "        t_qc = transpile(self._circuit,\n",
    "                         self.backend)\n",
    "        qobj = assemble(t_qc,\n",
    "                        shots=self.shots,\n",
    "                        parameter_binds = [{self.theta: theta} for theta in thetas])\n",
    "        job = self.backend.run(qobj)\n",
    "        result = job.result().get_counts()\n",
    "        \n",
    "        counts = np.array(list(result.values()))\n",
    "        states = np.array(list(result.keys())).astype(float)\n",
    "        \n",
    "        # Compute probabilities for each state\n",
    "        probabilities = counts / self.shots\n",
    "        # Get state expectation\n",
    "        expectation = np.sum(states * probabilities)\n",
    "        \n",
    "        return np.array([expectation])"
   ]
  },
  {
   "cell_type": "code",
   "execution_count": 21,
   "id": "81bdf9de-c8ab-44e4-88ca-1f17f7aed36d",
   "metadata": {
    "tags": []
   },
   "outputs": [
    {
     "name": "stderr",
     "output_type": "stream",
     "text": [
      "2024-02-04 08:53:01 jupyter-63557461844117c14f4c57db qiskit.compiler.assembler[5419] INFO Total Assembly Time - 0.32902 (ms)\n",
      "2024-02-04 08:53:01 jupyter-63557461844117c14f4c57db qiskit.compiler.assembler[5419] INFO Total Assembly Time - 0.11134 (ms)\n",
      "2024-02-04 08:53:01 jupyter-63557461844117c14f4c57db qiskit.compiler.assembler[5419] INFO Total Assembly Time - 0.10753 (ms)\n",
      "2024-02-04 08:53:01 jupyter-63557461844117c14f4c57db qiskit.compiler.assembler[5419] INFO Total Assembly Time - 0.10490 (ms)\n",
      "2024-02-04 08:53:02 jupyter-63557461844117c14f4c57db qiskit.compiler.assembler[5419] INFO Total Assembly Time - 0.07725 (ms)\n",
      "2024-02-04 08:53:02 jupyter-63557461844117c14f4c57db qiskit.compiler.assembler[5419] INFO Total Assembly Time - 0.10347 (ms)\n",
      "2024-02-04 08:53:02 jupyter-63557461844117c14f4c57db qiskit.compiler.assembler[5419] INFO Total Assembly Time - 0.10371 (ms)\n",
      "2024-02-04 08:53:02 jupyter-63557461844117c14f4c57db qiskit.compiler.assembler[5419] INFO Total Assembly Time - 0.09775 (ms)\n",
      "2024-02-04 08:53:02 jupyter-63557461844117c14f4c57db qiskit.compiler.assembler[5419] INFO Total Assembly Time - 0.07010 (ms)\n",
      "2024-02-04 08:53:02 jupyter-63557461844117c14f4c57db qiskit.compiler.assembler[5419] INFO Total Assembly Time - 0.07296 (ms)\n",
      "2024-02-04 08:53:02 jupyter-63557461844117c14f4c57db qiskit.compiler.assembler[5419] INFO Total Assembly Time - 0.07272 (ms)\n",
      "2024-02-04 08:53:02 jupyter-63557461844117c14f4c57db qiskit.compiler.assembler[5419] INFO Total Assembly Time - 0.07200 (ms)\n",
      "2024-02-04 08:53:02 jupyter-63557461844117c14f4c57db qiskit.passmanager.base_tasks[5419] INFO Pass: ContainsInstruction - 0.01216 (ms)\n",
      "2024-02-04 08:53:02 jupyter-63557461844117c14f4c57db qiskit.passmanager.base_tasks[5419] INFO Pass: UnitarySynthesis - 0.01788 (ms)\n",
      "2024-02-04 08:53:02 jupyter-63557461844117c14f4c57db qiskit.passmanager.base_tasks[5419] INFO Pass: HighLevelSynthesis - 0.36979 (ms)\n",
      "2024-02-04 08:53:02 jupyter-63557461844117c14f4c57db qiskit.transpiler.passes.basis.basis_translator[5419] INFO Begin BasisTranslator from source basis {('measure', 1), ('barrier', 4), ('ry', 1), ('h', 1)} to target basis {'save_statevector_dict', 'save_expval_var', 'roerror', 'rx', 'tdg', 'cu', 'r', 'save_statevector', 'mcp', 'h', 'save_superop', 'ry', 'rxx', 'save_amplitudes_sq', 'mcy', 'save_unitary', 'mcu1', 'break_loop', 'cswap', 'cx', 'mcz', 'save_state', 'id', 'while_loop', 'sdg', 'save_probabilities', 'qerror_loc', 'cy', 'save_stabilizer', 'superop', 't', 'cu1', 'snapshot', 'mcrz', 'set_unitary', 'u2', 'save_clifford', 'save_matrix_product_state', 'set_superop', 'set_density_matrix', 'mcphase', 'unitary', 'mcry', 'delay', 'p', 'if_else', 'swap', 'set_statevector', 'cz', 'set_stabilizer', 'ccx', 'ryy', 'initialize', 'csx', 'pauli', 'reset', 'save_density_matrix', 'rz', 'rzz', 'mcsx', 'mcr', 'cp', 'ecr', 'mcrx', 'sx', 'z', 'u', 'set_matrix_product_state', 's', 'u1', 'u3', 'save_expval', 'mcx', 'x', 'save_amplitudes', 'save_probabilities_dict', 'diagonal', 'barrier', 'mcu', 'continue_loop', 'kraus', 'mcx_gray', 'cu3', 'multiplexer', 'rzx', 'quantum_channel', 'sxdg', 'measure', 'mcswap', 'mcu3', 'cu2', 'y', 'mcu2', 'for_loop'}.\n",
      "2024-02-04 08:53:02 jupyter-63557461844117c14f4c57db qiskit.transpiler.passes.basis.basis_translator[5419] INFO Basis translation path search completed in 0.000s.\n",
      "2024-02-04 08:53:02 jupyter-63557461844117c14f4c57db qiskit.transpiler.passes.basis.basis_translator[5419] INFO Basis translation paths composed in 0.000s.\n",
      "2024-02-04 08:53:02 jupyter-63557461844117c14f4c57db qiskit.transpiler.passes.basis.basis_translator[5419] INFO Basis translation instructions replaced in 0.000s.\n",
      "2024-02-04 08:53:02 jupyter-63557461844117c14f4c57db qiskit.passmanager.base_tasks[5419] INFO Pass: BasisTranslator - 3.61705 (ms)\n",
      "2024-02-04 08:53:02 jupyter-63557461844117c14f4c57db qiskit.passmanager.base_tasks[5419] INFO Pass: Depth - 0.05674 (ms)\n",
      "2024-02-04 08:53:02 jupyter-63557461844117c14f4c57db qiskit.passmanager.base_tasks[5419] INFO Pass: FixedPoint - 0.01192 (ms)\n",
      "2024-02-04 08:53:02 jupyter-63557461844117c14f4c57db qiskit.passmanager.base_tasks[5419] INFO Pass: Size - 0.02337 (ms)\n",
      "2024-02-04 08:53:02 jupyter-63557461844117c14f4c57db qiskit.passmanager.base_tasks[5419] INFO Pass: FixedPoint - 0.01359 (ms)\n",
      "2024-02-04 08:53:02 jupyter-63557461844117c14f4c57db qiskit.passmanager.base_tasks[5419] INFO Pass: Optimize1qGatesDecomposition - 0.19765 (ms)\n",
      "2024-02-04 08:53:02 jupyter-63557461844117c14f4c57db qiskit.passmanager.base_tasks[5419] INFO Pass: CXCancellation - 0.03934 (ms)\n",
      "2024-02-04 08:53:02 jupyter-63557461844117c14f4c57db qiskit.passmanager.base_tasks[5419] INFO Pass: GatesInBasis - 0.01431 (ms)\n",
      "2024-02-04 08:53:02 jupyter-63557461844117c14f4c57db qiskit.passmanager.base_tasks[5419] INFO Pass: Depth - 0.03767 (ms)\n",
      "2024-02-04 08:53:02 jupyter-63557461844117c14f4c57db qiskit.passmanager.base_tasks[5419] INFO Pass: FixedPoint - 0.00978 (ms)\n",
      "2024-02-04 08:53:02 jupyter-63557461844117c14f4c57db qiskit.passmanager.base_tasks[5419] INFO Pass: Size - 0.01454 (ms)\n",
      "2024-02-04 08:53:02 jupyter-63557461844117c14f4c57db qiskit.passmanager.base_tasks[5419] INFO Pass: FixedPoint - 0.00811 (ms)\n",
      "2024-02-04 08:53:02 jupyter-63557461844117c14f4c57db qiskit.passmanager.base_tasks[5419] INFO Pass: ContainsInstruction - 0.00739 (ms)\n",
      "2024-02-04 08:53:02 jupyter-63557461844117c14f4c57db qiskit.compiler.transpiler[5419] INFO Total Transpile Time - 319.01979 (ms)\n",
      "2024-02-04 08:53:02 jupyter-63557461844117c14f4c57db qiskit.compiler.assembler[5419] INFO Total Assembly Time - 0.39768 (ms)\n"
     ]
    },
    {
     "name": "stdout",
     "output_type": "stream",
     "text": [
      "Expected value for rotation pi 559.3466666666667\n"
     ]
    },
    {
     "data": {
      "image/png": "[encoded data removed]",
      "text/plain": [
       "<Figure size 831.22x451.5 with 1 Axes>"
      ]
     },
     "execution_count": 21,
     "metadata": {},
     "output_type": "execute_result"
    }
   ],
   "source": [
    "simulator = qiskit.Aer.get_backend('aer_simulator')\n",
    "\n",
    "circuit = QuantumCircuit(4, simulator, 300)\n",
    "print('Expected value for rotation pi {}'.format(circuit.run([np.pi])[0]))\n",
    "circuit._circuit.draw()"
   ]
  },
  {
   "cell_type": "code",
   "execution_count": 22,
   "id": "18c00fb9-6e03-4ee1-8613-64d750e8c3a8",
   "metadata": {},
   "outputs": [],
   "source": [
    "# Let's generate some sample fingerprints\n",
    "fingerprints = np.random.randint(0, 2, size=(1000, 1024))\n",
    "\n",
    "n_samples = 100\n",
    "\n",
    "# Leaving only labels 0 and 1\n",
    "idx = np.append(np.where(fingerprints == 0)[0][:n_samples],\n",
    "        np.where(fingerprints == 1)[0][:n_samples])\n",
    "\n",
    "X_train_data = fingerprints[idx]\n",
    "X_train_targets = fingerprints[idx]\n",
    "\n",
    "train_loader = torch.utils.data.DataLoader(X_train_data, batch_size=1, shuffle=True)"
   ]
  },
  {
   "cell_type": "code",
   "execution_count": 23,
   "id": "3a544aff-46fc-437c-89af-aac471d1e6f5",
   "metadata": {},
   "outputs": [
    {
     "name": "stdout",
     "output_type": "stream",
     "text": [
      "tensor([[0, 0, 1,  ..., 0, 1, 1]]) tensor([[0, 0, 1,  ..., 0, 1, 1]])\n",
      "tensor([[0, 0, 1,  ..., 0, 1, 1]]) tensor([[0, 0, 1,  ..., 0, 1, 1]])\n",
      "tensor([[0, 0, 1,  ..., 0, 1, 1]]) tensor([[0, 0, 1,  ..., 0, 1, 1]])\n",
      "tensor([[0, 0, 1,  ..., 0, 1, 1]]) tensor([[0, 0, 1,  ..., 0, 1, 1]])\n",
      "tensor([[0, 0, 1,  ..., 0, 1, 1]]) tensor([[0, 0, 1,  ..., 0, 1, 1]])\n",
      "tensor([[0, 0, 1,  ..., 0, 1, 1]]) tensor([[0, 0, 1,  ..., 0, 1, 1]])\n"
     ]
    },
    {
     "data": {
      "image/png": "[encoded data removed]",
      "text/plain": [
       "<Figure size 1000x300 with 2 Axes>"
      ]
     },
     "metadata": {},
     "output_type": "display_data"
    }
   ],
   "source": [
    "# Generate some sample fingerprints\n",
    "fingerprints = np.random.randint(0, 2, size=(1000, 1024))\n",
    "\n",
    "# Only consider labels 0 and 1\n",
    "idx = np.append(np.where(fingerprints == 0)[0][:n_samples],\n",
    "    np.where(fingerprints == 1)[0][:n_samples])\n",
    "\n",
    "# Split data into training and testing sets\n",
    "X_train_data = fingerprints[idx]\n",
    "y_train = fingerprints[idx]\n",
    "\n",
    "# Create PyTorch DataLoader for training data\n",
    "train_loader = torch.utils.data.DataLoader(X_train_data, batch_size=1, shuffle=True, pin_memory=True, num_workers=8)\n",
    "\n",
    "# Visualize some of the training data\n",
    "n_samples_show = 6\n",
    "\n",
    "data_iter = iter(train_loader)\n",
    "fig, axes = plt.subplots(nrows=2, figsize=(10, 3))  # Specify the number of rows and figure size explicitly\n",
    "\n",
    "while n_samples_show > 0:\n",
    "    images = data_iter.__next__()\n",
    "    targets = data_iter.__next__()\n",
    "    print(images, targets)\n",
    "    n_samples_show -= 1  # Decrement the counter for the number of samples to show\n",
    "\n",
    "    # Plot the images and targets\n",
    "    axes[0].imshow(images.reshape(32, 32), cmap=\"gray\")\n",
    "    axes[1].plot(targets.numpy())\n",
    "\n",
    "    # Set the titles and labels for the subplots\n",
    "    axes[0].set_title(\"Image\")\n",
    "    axes[1].set_title(\"Target\")\n",
    "    axes[0].set_xlabel(\"Pixel Index\")\n",
    "    axes[0].set_ylabel(\"Pixel Value\")\n",
    "    axes[1].set_xlabel(\"Pixel Index\")\n",
    "    axes[1].set_ylabel(\"Target Value\")\n",
    "\n",
    "plt.show()"
   ]
  },
  {
   "cell_type": "code",
   "execution_count": 24,
   "id": "8fd149f0-4da0-4dc0-881d-ebe449c356c0",
   "metadata": {},
   "outputs": [
    {
     "name": "stdout",
     "output_type": "stream",
     "text": [
      "tensor([[0, 1, 0,  ..., 1, 1, 1]]) tensor([[0, 1, 0,  ..., 1, 1, 1]])\n",
      "tensor([[0, 1, 0,  ..., 1, 1, 1]]) tensor([[0, 1, 0,  ..., 1, 1, 1]])\n",
      "tensor([[0, 1, 0,  ..., 1, 1, 1]]) tensor([[0, 1, 0,  ..., 1, 1, 1]])\n",
      "tensor([[0, 1, 0,  ..., 1, 1, 1]]) tensor([[0, 1, 0,  ..., 1, 1, 1]])\n",
      "tensor([[0, 1, 0,  ..., 1, 1, 1]]) tensor([[0, 1, 0,  ..., 1, 1, 1]])\n",
      "tensor([[0, 1, 0,  ..., 1, 1, 1]]) tensor([[0, 1, 0,  ..., 1, 1, 1]])\n"
     ]
    },
    {
     "data": {
      "image/png": "[encoded data removed]",
      "text/plain": [
       "<Figure size 1000x300 with 6 Axes>"
      ]
     },
     "metadata": {},
     "output_type": "display_data"
    }
   ],
   "source": [
    "# Code to generate fingerprints\n",
    "fingerprints = np.random.randint(0, 2, size=(1000, 1024))\n",
    "\n",
    "# Only consider labels 0 and 1\n",
    "idx = np.append(np.where(fingerprints == 0)[0][:n_samples],\n",
    "    np.where(fingerprints == 1)[0][:n_samples])\n",
    "\n",
    "# Split data into training and testing sets\n",
    "X_train_data = fingerprints[idx]\n",
    "y_train = fingerprints[idx]\n",
    "\n",
    "# Create PyTorch DataLoader for training data\n",
    "train_loader = torch.utils.data.DataLoader(X_train_data, batch_size=1, shuffle=True, pin_memory=True, num_workers=8)\n",
    "\n",
    "# Visualize some of the training data\n",
    "n_samples_show = 6\n",
    "\n",
    "data_iter = iter(train_loader)\n",
    "fig, axes = plt.subplots(nrows=n_samples_show, figsize=(10, 3))  # Set the number of rows and figure size explicitly\n",
    "\n",
    "while n_samples_show > 0:\n",
    "    images = data_iter.__next__()\n",
    "    targets = data_iter.__next__()\n",
    "    print(images, targets)\n",
    "    n_samples_show -= 1  # Decrement the counter for the number of samples to show\n",
    "\n",
    "    # Plot the images and targets\n",
    "    axes[0].imshow(images.reshape(32, 32), cmap=\"gray\")\n",
    "    axes[1].plot(targets.numpy())\n",
    "\n",
    "    # Set the titles and labels for the subplots\n",
    "    axes[0].set_title(\"Image\")\n",
    "    axes[1].set_title(\"Target\")\n",
    "    axes[0].set_xlabel(\"Pixel Index\")\n",
    "    axes[0].set_ylabel(\"Pixel Value\")\n",
    "    axes[1].set_xlabel(\"Pixel Index\")\n",
    "    axes[1].set_ylabel(\"Target Value\")\n",
    "\n",
    "plt.show()"
   ]
  },
  {
   "cell_type": "code",
   "execution_count": 29,
   "id": "5099714a-87c5-4aaf-a065-cf3d34450c63",
   "metadata": {
    "tags": []
   },
   "outputs": [
    {
     "name": "stderr",
     "output_type": "stream",
     "text": [
      "__init__.discover_credentials:INFO:2024-02-04 09:09:59,681: Using credentials from qiskitrc\n",
      "ibmqfactory.load_account:WARNING:2024-02-04 09:10:04,963: Credentials are already in use. The existing account in the session will be replaced.\n"
     ]
    },
    {
     "name": "stdout",
     "output_type": "stream",
     "text": [
      "Traceback \u001b[1;36m(most recent call last)\u001b[0m:\n",
      "\u001b[0m  Cell \u001b[0;32mIn[29], line 16\u001b[0m\n",
      "    backend = provider.get_backend('aer_simulator')\u001b[0m\n",
      "\u001b[1;36m  File \u001b[1;32m/opt/conda/lib/python3.10/site-packages/qiskit/providers/provider.py:55\u001b[1;36m in \u001b[1;35mget_backend\u001b[1;36m\n",
      "\u001b[1;33m    raise QiskitBackendNotFoundError(\"No backend matches the criteria\")\u001b[1;36m\n",
      "\u001b[1;31mQiskitBackendNotFoundError\u001b[0m\u001b[1;31m:\u001b[0m 'No backend matches the criteria'\n",
      "\n",
      "Use %tb to get the full traceback.\n"
     ]
    },
    {
     "data": {
      "text/html": [
       "\n",
       "<style>\n",
       ".button {\n",
       "  border: none;\n",
       "  color: white;\n",
       "  padding: 4px 8px;\n",
       "  text-align: center;\n",
       "  text-decoration: none;\n",
       "  display: inline-block;\n",
       "  font-size: 12px;\n",
       "  margin: 4px 2px;\n",
       "  transition-duration: 0.2s;\n",
       "  cursor: pointer;\n",
       "}\n",
       ".iqx-button {\n",
       "  background-color: #0f62fe; \n",
       "  color: white; \n",
       "}\n",
       ".iqx-button:hover {\n",
       "  background-color: #0043ce;\n",
       "  color: white;\n",
       "}\n",
       "</style>\n",
       "<a href=\"https://stackoverflow.com/search?q=QiskitBackendNotFoundError: No backend matches the criteria\" target='_blank'><button class='button iqx-button'>Search for solution online</button></a>\n"
      ],
      "text/plain": [
       "<IPython.core.display.HTML object>"
      ]
     },
     "metadata": {},
     "output_type": "display_data"
    }
   ],
   "source": [
    "class Hybrid(nn.Module):\n",
    "    def __init__(self, backend, shots, theta):\n",
    "        super().__init__()\n",
    "        self.backend = backend\n",
    "        self.shots = shots\n",
    "        self.theta = torch.nn.Parameter(theta)\n",
    "\n",
    "    def forward(self, x: torch.Tensor) -> torch.Tensor:\n",
    "        circuits = [self.backend.get_circuit_topology().circuit] * x.shape[0]\n",
    "        return self.backend.run(circuits, self.shots)[0]\n",
    "\n",
    "# Define the IBMQ provider\n",
    "provider = IBMQ.load_account()\n",
    "\n",
    "# Get the simulator backend and shots\n",
    "backend = provider.get_backend('aer_simulator')\n",
    "shots = 1000\n",
    "\n",
    "# Define the theta parameter\n",
    "theta = torch.nn.Parameter(torch.tensor(0.5))\n",
    "\n",
    "# Initialize the model\n",
    "model = Hybrid(backend, shots, theta)\n",
    "\n",
    "# Define the optimizer\n",
    "optimizer = optim.Adam(model.parameters(), lr=0.001)\n",
    "\n",
    "# Define the loss function\n",
    "loss_func = nn.NLLLoss()\n",
    "\n",
    "# Define the training and testing data loaders\n",
    "train_loader = ...  # Define the training data loader here\n",
    "test_loader = ...  # Define the testing data loader here\n",
    "\n",
    "# Train the model for a number of epochs\n",
    "epochs = 20\n",
    "loss_list = []\n",
    "for epoch in range(epochs):\n",
    "    total_loss = []\n",
    "    for batch_idx, data in enumerate(train_loader):\n",
    "        # Zero the gradients\n",
    "        model.zero_grad()\n",
    "\n",
    "        # Forward pass\n",
    "        output = model(data)\n",
    "\n",
    "        # Compute the loss\n",
    "        loss = loss_func(output, data)\n",
    "\n",
    "        # Backward pass\n",
    "        loss.backward()\n",
    "\n",
    "        # Update the parameters\n",
    "        optimizer.step()\n",
    "\n",
    "        # Append the loss to the list\n",
    "        total_loss.append(loss.item())\n",
    "\n",
    "    # Compute the average loss for the epoch\n",
    "    loss_list.append(sum(total_loss) / len(total_loss))\n",
    "\n",
    "    # Print the progress of the training\n",
    "    print('Training [{:.0f}%]\\tLoss: {:.4f}'.format(\n",
    "        100. * (epoch + 1) / epochs, loss_list[-1]))\n",
    "\n",
    "# Evaluate the trained model on the test data\n",
    "model.eval()\n",
    "with torch.no_grad():\n",
    "\n",
    "    correct = 0\n",
    "    for batch_idx, (data, target) in enumerate(test_loader):\n",
    "        output = model(data)\n",
    "\n",
    "        pred = output.argmax(dim=1, keepdim=True)\n",
    "        correct += pred.eq(target.view_as(pred)).sum().item()\n",
    "\n",
    "        loss = loss_func(output, target)\n",
    "        total_loss.append(loss.item())\n",
    "\n",
    "    print('Performance on test data:\\n\\tLoss: {:.4f}\\n\\tAccuracy: {:.1f}%'.format(\n",
    "        sum(total_loss) / len(total_loss),\n",
    "        correct / len(test_loader) * 100)\n",
    "    )"
   ]
  },
  {
   "cell_type": "code",
   "execution_count": 30,
   "id": "cd0215f5-f116-4b67-985f-88404d911a53",
   "metadata": {},
   "outputs": [
    {
     "name": "stdout",
     "output_type": "stream",
     "text": [
      "Traceback \u001b[1;36m(most recent call last)\u001b[0m:\n",
      "\u001b[1;36m  Cell \u001b[1;32mIn[30], line 5\u001b[1;36m\n",
      "\u001b[1;33m    model.eval()\u001b[1;36m\n",
      "\u001b[1;31mNameError\u001b[0m\u001b[1;31m:\u001b[0m name 'model' is not defined\n",
      "\n",
      "Use %tb to get the full traceback.\n"
     ]
    },
    {
     "data": {
      "text/html": [
       "\n",
       "<style>\n",
       ".button {\n",
       "  border: none;\n",
       "  color: white;\n",
       "  padding: 4px 8px;\n",
       "  text-align: center;\n",
       "  text-decoration: none;\n",
       "  display: inline-block;\n",
       "  font-size: 12px;\n",
       "  margin: 4px 2px;\n",
       "  transition-duration: 0.2s;\n",
       "  cursor: pointer;\n",
       "}\n",
       ".iqx-button {\n",
       "  background-color: #0f62fe; \n",
       "  color: white; \n",
       "}\n",
       ".iqx-button:hover {\n",
       "  background-color: #0043ce;\n",
       "  color: white;\n",
       "}\n",
       "</style>\n",
       "<a href=\"https://stackoverflow.com/search?q=NameError: name 'model' is not defined\" target='_blank'><button class='button iqx-button'>Search for solution online</button></a>\n"
      ],
      "text/plain": [
       "<IPython.core.display.HTML object>"
      ]
     },
     "metadata": {},
     "output_type": "display_data"
    },
    {
     "data": {
      "image/png": "[encoded data removed]",
      "text/plain": [
       "<Figure size 1000x300 with 6 Axes>"
      ]
     },
     "metadata": {},
     "output_type": "display_data"
    }
   ],
   "source": [
    "n_samples_show = 6\n",
    "count = 0\n",
    "fig, axes = plt.subplots(nrows=1, ncols=n_samples_show, figsize=(10, 3))\n",
    "\n",
    "model.eval()\n",
    "with torch.no_grad():\n",
    "    for batch_idx, (data, target) in enumerate(test_loader):\n",
    "        if count == n_samples_show:\n",
    "            break\n",
    "        output = model(data)\n",
    "        \n",
    "        pred = output.argmax(dim=1, keepdim=True) \n",
    "\n",
    "        axes[count].imshow(data[0].numpy().squeeze(), cmap='gray')\n",
    "\n",
    "        axes[count].set_xticks([])\n",
    "        axes[count].set_yticks([])\n",
    "        axes[count].set_title('Predicted {}'.format(pred.item()))\n",
    "        \n",
    "        count += 1"
   ]
  },
  {
   "cell_type": "code",
   "execution_count": null,
   "id": "3aae3f57-ae53-46d5-bd79-d3ab93fc07ca",
   "metadata": {},
   "outputs": [],
   "source": []
  }
 ],
 "metadata": {
  "kernelspec": {
   "display_name": "Qiskit v0.45.2 (ipykernel)",
   "language": "python",
   "name": "python3"
  },
  "language_info": {
   "codemirror_mode": {
    "name": "ipython",
    "version": 3
   },
   "file_extension": ".py",
   "mimetype": "text/x-python",
   "name": "python",
   "nbconvert_exporter": "python",
   "pygments_lexer": "ipython3",
   "version": "3.10.8"
  },
  "widgets": {
   "application/vnd.jupyter.widget-state+json": {
    "state": {
     "06c6491d9afc41b3bda0d3e605d0bbce": {
      "model_module": "@jupyter-widgets/base",
      "model_module_version": "2.0.0",
      "model_name": "LayoutModel",
      "state": {
       "grid_area": "right",
       "padding": "0px 0px 0px 0px",
       "width": "70px"
      }
     },
     "255783498f534d3fbaf4793b97780de9": {
      "model_module": "@jupyter-widgets/controls",
      "model_module_version": "2.0.0",
      "model_name": "HTMLModel",
      "state": {
       "layout": "IPY_MODEL_36228db0395940338476681545d0f41c",
       "style": "IPY_MODEL_89c6ba0d39504cada7e4eb30d4b4a645",
       "value": "<h5>Job ID</h5>"
      }
     },
     "2b894c06270e45148f1a36d2dcee9345": {
      "model_module": "@jupyter-widgets/controls",
      "model_module_version": "2.0.0",
      "model_name": "HTMLStyleModel",
      "state": {
       "description_width": "",
       "font_size": null,
       "text_color": null
      }
     },
     "2f38baf8fb204551863957fb3e66bd4f": {
      "model_module": "@jupyter-widgets/controls",
      "model_module_version": "2.0.0",
      "model_name": "HTMLStyleModel",
      "state": {
       "description_width": "",
       "font_size": null,
       "text_color": null
      }
     },
     "36228db0395940338476681545d0f41c": {
      "model_module": "@jupyter-widgets/base",
      "model_module_version": "2.0.0",
      "model_name": "LayoutModel",
      "state": {
       "width": "190px"
      }
     },
     "374ea242c10e4c0687a1cdf08e8891cb": {
      "model_module": "@jupyter-widgets/base",
      "model_module_version": "2.0.0",
      "model_name": "LayoutModel",
      "state": {
       "margin": "0px 0px 0px 37px",
       "width": "600px"
      }
     },
     "3d44625fce37401a94ad7cb0a147772a": {
      "model_module": "@jupyter-widgets/controls",
      "model_module_version": "2.0.0",
      "model_name": "ButtonModel",
      "state": {
       "button_style": "primary",
       "description": "Clear",
       "layout": "IPY_MODEL_06c6491d9afc41b3bda0d3e605d0bbce",
       "style": "IPY_MODEL_853fba5c45b24c588179b093430ff0e1",
       "tooltip": null
      }
     },
     "517edf699b19446290efb9525ef91115": {
      "model_module": "@jupyter-widgets/controls",
      "model_module_version": "2.0.0",
      "model_name": "HTMLModel",
      "state": {
       "layout": "IPY_MODEL_b4e7503a08fc4377b6fa8e06e6c5a600",
       "style": "IPY_MODEL_9b700b55c9884009a6b2aff1cb1e5424",
       "value": "<h5>Message</h5>"
      }
     },
     "57dab977de714ecea63b31ffb2eca0a9": {
      "model_module": "@jupyter-widgets/base",
      "model_module_version": "2.0.0",
      "model_name": "LayoutModel",
      "state": {
       "width": "95px"
      }
     },
     "5c743b44464c4f8abf723d50470043a6": {
      "model_module": "@jupyter-widgets/controls",
      "model_module_version": "2.0.0",
      "model_name": "HTMLModel",
      "state": {
       "layout": "IPY_MODEL_88da71fb958744e58be81e2878b9b512",
       "style": "IPY_MODEL_71f5c25578e449bb9b65ae63f71ca756",
       "value": "<h5>Backend</h5>"
      }
     },
     "5ef97ac8ce5940f699762e52791f253f": {
      "model_module": "@jupyter-widgets/controls",
      "model_module_version": "2.0.0",
      "model_name": "GridBoxModel",
      "state": {
       "children": [
        "IPY_MODEL_3d44625fce37401a94ad7cb0a147772a"
       ],
       "layout": "IPY_MODEL_ef3d0a3c29d9450a933c3d8fefd62b86"
      }
     },
     "643b03ddc0e94c3b8dbe59f2a4f7ed13": {
      "model_module": "@jupyter-widgets/controls",
      "model_module_version": "2.0.0",
      "model_name": "HTMLModel",
      "state": {
       "layout": "IPY_MODEL_57dab977de714ecea63b31ffb2eca0a9",
       "style": "IPY_MODEL_2b894c06270e45148f1a36d2dcee9345",
       "value": "<h5>Status</h5>"
      }
     },
     "71f5c25578e449bb9b65ae63f71ca756": {
      "model_module": "@jupyter-widgets/controls",
      "model_module_version": "2.0.0",
      "model_name": "HTMLStyleModel",
      "state": {
       "description_width": "",
       "font_size": null,
       "text_color": null
      }
     },
     "853fba5c45b24c588179b093430ff0e1": {
      "model_module": "@jupyter-widgets/controls",
      "model_module_version": "2.0.0",
      "model_name": "ButtonStyleModel",
      "state": {
       "font_family": null,
       "font_size": null,
       "font_style": null,
       "font_variant": null,
       "font_weight": null,
       "text_color": null,
       "text_decoration": null
      }
     },
     "88da71fb958744e58be81e2878b9b512": {
      "model_module": "@jupyter-widgets/base",
      "model_module_version": "2.0.0",
      "model_name": "LayoutModel",
      "state": {
       "width": "145px"
      }
     },
     "89c6ba0d39504cada7e4eb30d4b4a645": {
      "model_module": "@jupyter-widgets/controls",
      "model_module_version": "2.0.0",
      "model_name": "HTMLStyleModel",
      "state": {
       "description_width": "",
       "font_size": null,
       "text_color": null
      }
     },
     "8eab119d4cae4c59b7ce32cf7dfa1a93": {
      "model_module": "@jupyter-widgets/base",
      "model_module_version": "2.0.0",
      "model_name": "LayoutModel",
      "state": {
       "width": "70px"
      }
     },
     "9b700b55c9884009a6b2aff1cb1e5424": {
      "model_module": "@jupyter-widgets/controls",
      "model_module_version": "2.0.0",
      "model_name": "HTMLStyleModel",
      "state": {
       "description_width": "",
       "font_size": null,
       "text_color": null
      }
     },
     "a33b1b94af1241908dd674f2f3829d03": {
      "model_module": "@jupyter-widgets/controls",
      "model_module_version": "2.0.0",
      "model_name": "HTMLStyleModel",
      "state": {
       "description_width": "",
       "font_size": null,
       "text_color": null
      }
     },
     "b4e7503a08fc4377b6fa8e06e6c5a600": {
      "model_module": "@jupyter-widgets/base",
      "model_module_version": "2.0.0",
      "model_name": "LayoutModel",
      "state": {}
     },
     "b62f73e623f14b44a1cbd3e3db15e8f6": {
      "model_module": "@jupyter-widgets/controls",
      "model_module_version": "2.0.0",
      "model_name": "HTMLModel",
      "state": {
       "layout": "IPY_MODEL_df8455ca77b84bf69a9f04afd6e16f58",
       "style": "IPY_MODEL_a33b1b94af1241908dd674f2f3829d03",
       "value": "<p style='font-family: IBM Plex Sans, Arial, Helvetica, sans-serif; font-size: 20px; font-weight: medium;'>Circuit Properties</p>"
      }
     },
     "b9595605ccfb40db92ee9d2047fc731d": {
      "model_module": "@jupyter-widgets/controls",
      "model_module_version": "2.0.0",
      "model_name": "HBoxModel",
      "state": {
       "children": [
        "IPY_MODEL_255783498f534d3fbaf4793b97780de9",
        "IPY_MODEL_5c743b44464c4f8abf723d50470043a6",
        "IPY_MODEL_643b03ddc0e94c3b8dbe59f2a4f7ed13",
        "IPY_MODEL_be73b392ebff416f9a5f0f3c69b39562",
        "IPY_MODEL_517edf699b19446290efb9525ef91115"
       ],
       "layout": "IPY_MODEL_374ea242c10e4c0687a1cdf08e8891cb"
      }
     },
     "be73b392ebff416f9a5f0f3c69b39562": {
      "model_module": "@jupyter-widgets/controls",
      "model_module_version": "2.0.0",
      "model_name": "HTMLModel",
      "state": {
       "layout": "IPY_MODEL_8eab119d4cae4c59b7ce32cf7dfa1a93",
       "style": "IPY_MODEL_2f38baf8fb204551863957fb3e66bd4f",
       "value": "<h5>Queue</h5>"
      }
     },
     "df8455ca77b84bf69a9f04afd6e16f58": {
      "model_module": "@jupyter-widgets/base",
      "model_module_version": "2.0.0",
      "model_name": "LayoutModel",
      "state": {
       "margin": "0px 0px 10px 0px"
      }
     },
     "ef3d0a3c29d9450a933c3d8fefd62b86": {
      "model_module": "@jupyter-widgets/base",
      "model_module_version": "2.0.0",
      "model_name": "LayoutModel",
      "state": {
       "grid_template_areas": "\n                                       \". . . . right \"\n                                        ",
       "grid_template_columns": "20% 20% 20% 20% 20%",
       "width": "100%"
      }
     }
    },
    "version_major": 2,
    "version_minor": 0
   }
  }
 },
 "nbformat": 4,
 "nbformat_minor": 5
}
